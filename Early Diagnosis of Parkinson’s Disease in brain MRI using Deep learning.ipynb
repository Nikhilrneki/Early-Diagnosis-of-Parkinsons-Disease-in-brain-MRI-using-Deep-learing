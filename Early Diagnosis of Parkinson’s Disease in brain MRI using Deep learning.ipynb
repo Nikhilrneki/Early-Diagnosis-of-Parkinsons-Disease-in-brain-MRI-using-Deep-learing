{
 "cells": [
  {
   "cell_type": "code",
   "execution_count": 1,
   "id": "fb20b8d7",
   "metadata": {},
   "outputs": [],
   "source": [
    "import os\n",
    "import matplotlib.pyplot as plt\n",
    "import numpy as np\n",
    "import pydicom\n",
    "from keras.preprocessing import image\n",
    "from keras.preprocessing.image import ImageDataGenerator\n",
    "from sklearn.metrics import classification_report,confusion_matrix\n",
    "import cv2 as cv\n",
    "import seaborn as sns\n",
    "from keras.utils import np_utils\n",
    "from tensorflow.keras.optimizers import Adam\n",
    "from tensorflow.keras.layers import *\n",
    "from tensorflow.keras.models import Sequential\n",
    "from tensorflow.keras.callbacks import ModelCheckpoint\n",
    "from tensorflow.keras.regularizers import l2\n",
    "from tensorflow.keras.layers import BatchNormalization\n",
    "from tensorflow.keras.applications.resnet50 import ResNet50\n",
    "from tensorflow.keras.applications.vgg16 import VGG16\n",
    "from tensorflow.keras.models import Model\n"
   ]
  },
  {
   "cell_type": "code",
   "execution_count": 2,
   "id": "201b88ae",
   "metadata": {},
   "outputs": [],
   "source": [
    "import warnings\n",
    "warnings.filterwarnings(\"ignore\")"
   ]
  },
  {
   "cell_type": "code",
   "execution_count": 3,
   "id": "35893617",
   "metadata": {},
   "outputs": [],
   "source": [
    "# DataPath of DCIM Image (PPMI MRI)\n",
    "trainImages = \"./Data/Train\"\n",
    "testImages  = \"./Data/Test\""
   ]
  },
  {
   "cell_type": "code",
   "execution_count": 4,
   "id": "48098366",
   "metadata": {},
   "outputs": [],
   "source": [
    "label_dict = {\n",
    "    'Control':0,\n",
    "    'PD':1\n",
    "}"
   ]
  },
  {
   "cell_type": "code",
   "execution_count": 5,
   "id": "6c597826",
   "metadata": {},
   "outputs": [],
   "source": [
    "def readTrainingData(filePath):\n",
    "    image_data=[]\n",
    "    labels = []\n",
    "    folders = os.listdir(filePath)\n",
    "    print(folders)\n",
    "    for ix in folders:\n",
    "      path = os.path.join(filePath,ix)\n",
    "      for im in os.listdir(path):\n",
    "        img = pydicom.dcmread(os.path.join(path,im))\n",
    "        img_array = img.pixel_array\n",
    "        img_array = cv.resize(img_array,(512,512))\n",
    "        image_data.append(img_array)\n",
    "        labels.append(label_dict[ix])\n",
    "    return image_data,labels"
   ]
  },
  {
   "cell_type": "code",
   "execution_count": 6,
   "id": "e72407f7",
   "metadata": {},
   "outputs": [],
   "source": [
    "def readTestingData(filePath):\n",
    "    image_data=[]\n",
    "    labels = []\n",
    "    folders = os.listdir(filePath)\n",
    "    print(folders)\n",
    "    for ix in folders:\n",
    "      path = os.path.join(filePath,ix)\n",
    "      for im in os.listdir(path):\n",
    "        img = pydicom.dcmread(os.path.join(path,im))\n",
    "        img_array = img.pixel_array\n",
    "        img_array = cv.resize(img_array,(512,512))\n",
    "        image_data.append(img_array)\n",
    "        labels.append(label_dict[ix])\n",
    "    return image_data,labels"
   ]
  },
  {
   "cell_type": "code",
   "execution_count": 7,
   "id": "9d4b57bc",
   "metadata": {},
   "outputs": [],
   "source": [
    "def arrayConversion(data,label):\n",
    "    x_train = np.array(data)\n",
    "    y_train = np.array(label)\n",
    "\n",
    "    print(x_train.shape,y_train.shape)\n",
    "    \n",
    "    return x_train,y_train"
   ]
  },
  {
   "cell_type": "code",
   "execution_count": 8,
   "id": "ffbfd32a",
   "metadata": {},
   "outputs": [],
   "source": [
    "def categoricalConversion(y_train):\n",
    "    y_train = np_utils.to_categorical(y_train)\n",
    "    print(y_train.shape)\n",
    "    return y_train"
   ]
  },
  {
   "cell_type": "code",
   "execution_count": 9,
   "id": "4c024613",
   "metadata": {},
   "outputs": [],
   "source": [
    "def CNNModelwithoutBatchNormalization():\n",
    "    model = Sequential()\n",
    "\n",
    "\n",
    "    model.add(Conv2D(filters=16, kernel_size=(3,3),input_shape=(512,512,1), activation='relu',kernel_regularizer=l2(0.01)))\n",
    "    model.add(MaxPool2D(pool_size=(2, 2)))\n",
    "\n",
    "    model.add(Conv2D(filters=32, kernel_size=(3,3),input_shape=(512,512,1), activation='relu',kernel_regularizer=l2(0.01)))\n",
    "    model.add(MaxPool2D(pool_size=(2, 2)))\n",
    "\n",
    "    model.add(Conv2D(filters=64, kernel_size=(3,3),input_shape=(512,512,1), activation='relu',kernel_regularizer=l2(0.01)))\n",
    "    model.add(MaxPool2D(pool_size=(2, 2)))\n",
    "\n",
    "    model.add(Conv2D(filters=64, kernel_size=(3,3),input_shape=(512,512,1), activation='relu',kernel_regularizer=l2(0.01)))\n",
    "    model.add(MaxPool2D(pool_size=(2, 2)))\n",
    "\n",
    "    model.add(Conv2D(filters=128, kernel_size=(3,3),input_shape=(512,512,1), activation='relu',kernel_regularizer=l2(0.01)))\n",
    "    model.add(MaxPool2D(pool_size=(2, 2)))\n",
    "\n",
    "    model.add(Conv2D(filters=128, kernel_size=(3,3),input_shape=(512,512,1), activation='relu',kernel_regularizer=l2(0.01)))\n",
    "    model.add(MaxPool2D(pool_size=(2, 2)))\n",
    "\n",
    "    model.add(Flatten())\n",
    "\n",
    "    model.add(Dense(224))\n",
    "    model.add(Activation('relu'))\n",
    "\n",
    "    model.add(Dropout(0.5))\n",
    "\n",
    "    model.add(Dense(2))\n",
    "    model.add(Activation('sigmoid'))\n",
    "\n",
    "    model.compile(loss='binary_crossentropy',\n",
    "                  optimizer='adam',\n",
    "                  metrics=['accuracy'])\n",
    "    \n",
    "    return model"
   ]
  },
  {
   "cell_type": "code",
   "execution_count": 10,
   "id": "db450fc1",
   "metadata": {},
   "outputs": [],
   "source": [
    " def CNNLeNet5():\n",
    "    model = Sequential()\n",
    "    model.add(Conv2D(filters=32, kernel_size=(5,5), padding='same', activation='relu', input_shape=(512,512, 1)))\n",
    "    model.add(MaxPool2D(strides=2))\n",
    "    model.add(Conv2D(filters=48, kernel_size=(5,5), padding='valid', activation='relu'))\n",
    "    model.add(MaxPool2D(strides=2))\n",
    "    model.add(Flatten())\n",
    "    model.add(Dense(256, activation='relu'))\n",
    "    model.add(Dense(84, activation='relu'))\n",
    "    model.add(Dense(2, activation='softmax'))\n",
    "    \n",
    "    model.compile(loss='binary_crossentropy',\n",
    "                  optimizer='adam',\n",
    "                  metrics=['accuracy'])\n",
    "    \n",
    "    return model"
   ]
  },
  {
   "cell_type": "code",
   "execution_count": 11,
   "id": "b27bc2ac",
   "metadata": {},
   "outputs": [],
   "source": [
    "def CNNModelwithBatchNormalization():\n",
    "    model = Sequential()\n",
    "\n",
    "\n",
    "    model.add(Conv2D(filters=16, kernel_size=(3,3),input_shape=(512,512,1), activation='relu',kernel_regularizer=l2(0.01)))\n",
    "    model.add(MaxPool2D(pool_size=(2, 2)))\n",
    "\n",
    "    model.add(Conv2D(filters=32, kernel_size=(3,3),input_shape=(512,512,1), activation='relu',kernel_regularizer=l2(0.01)))\n",
    "    model.add(MaxPool2D(pool_size=(2, 2)))\n",
    "\n",
    "    model.add(Conv2D(filters=64, kernel_size=(3,3),input_shape=(512,512,1), activation='relu',kernel_regularizer=l2(0.01)))\n",
    "    model.add(MaxPool2D(pool_size=(2, 2)))\n",
    "\n",
    "    model.add(Conv2D(filters=64, kernel_size=(3,3),input_shape=(512,512,1), activation='relu',kernel_regularizer=l2(0.01)))\n",
    "    model.add(MaxPool2D(pool_size=(2, 2)))\n",
    "\n",
    "    model.add(Conv2D(filters=128, kernel_size=(3,3),input_shape=(512,512,1), activation='relu',kernel_regularizer=l2(0.01)))\n",
    "    model.add(MaxPool2D(pool_size=(2, 2)))\n",
    "\n",
    "    model.add(Conv2D(filters=128, kernel_size=(3,3),input_shape=(512,512,1), activation='relu',kernel_regularizer=l2(0.01)))\n",
    "    model.add(MaxPool2D(pool_size=(2, 2)))\n",
    "\n",
    "    model.add(Flatten())\n",
    "\n",
    "    model.add(Dense(224))\n",
    "    model.add(BatchNormalization())\n",
    "    model.add(Activation('relu'))\n",
    "\n",
    "    model.add(Dropout(0.5))\n",
    "\n",
    "    model.add(Dense(2))\n",
    "    model.add(BatchNormalization())\n",
    "    model.add(Activation('sigmoid'))\n",
    "\n",
    "    model.compile(loss='binary_crossentropy',\n",
    "                  optimizer='adam',\n",
    "                  metrics=['accuracy'])\n",
    "    \n",
    "    return model"
   ]
  },
  {
   "cell_type": "code",
   "execution_count": 12,
   "id": "f7dea108",
   "metadata": {},
   "outputs": [
    {
     "name": "stdout",
     "output_type": "stream",
     "text": [
      "['Control', 'PD']\n",
      "(1564, 512, 512) (1564,)\n",
      "(1564, 2)\n",
      "Model: \"sequential\"\n",
      "_________________________________________________________________\n",
      " Layer (type)                Output Shape              Param #   \n",
      "=================================================================\n",
      " conv2d (Conv2D)             (None, 510, 510, 16)      160       \n",
      "                                                                 \n",
      " max_pooling2d (MaxPooling2D  (None, 255, 255, 16)     0         \n",
      " )                                                               \n",
      "                                                                 \n",
      " conv2d_1 (Conv2D)           (None, 253, 253, 32)      4640      \n",
      "                                                                 \n",
      " max_pooling2d_1 (MaxPooling  (None, 126, 126, 32)     0         \n",
      " 2D)                                                             \n",
      "                                                                 \n",
      " conv2d_2 (Conv2D)           (None, 124, 124, 64)      18496     \n",
      "                                                                 \n",
      " max_pooling2d_2 (MaxPooling  (None, 62, 62, 64)       0         \n",
      " 2D)                                                             \n",
      "                                                                 \n",
      " conv2d_3 (Conv2D)           (None, 60, 60, 64)        36928     \n",
      "                                                                 \n",
      " max_pooling2d_3 (MaxPooling  (None, 30, 30, 64)       0         \n",
      " 2D)                                                             \n",
      "                                                                 \n",
      " conv2d_4 (Conv2D)           (None, 28, 28, 128)       73856     \n",
      "                                                                 \n",
      " max_pooling2d_4 (MaxPooling  (None, 14, 14, 128)      0         \n",
      " 2D)                                                             \n",
      "                                                                 \n",
      " conv2d_5 (Conv2D)           (None, 12, 12, 128)       147584    \n",
      "                                                                 \n",
      " max_pooling2d_5 (MaxPooling  (None, 6, 6, 128)        0         \n",
      " 2D)                                                             \n",
      "                                                                 \n",
      " flatten (Flatten)           (None, 4608)              0         \n",
      "                                                                 \n",
      " dense (Dense)               (None, 224)               1032416   \n",
      "                                                                 \n",
      " batch_normalization (BatchN  (None, 224)              896       \n",
      " ormalization)                                                   \n",
      "                                                                 \n",
      " activation (Activation)     (None, 224)               0         \n",
      "                                                                 \n",
      " dropout (Dropout)           (None, 224)               0         \n",
      "                                                                 \n",
      " dense_1 (Dense)             (None, 2)                 450       \n",
      "                                                                 \n",
      " batch_normalization_1 (Batc  (None, 2)                8         \n",
      " hNormalization)                                                 \n",
      "                                                                 \n",
      " activation_1 (Activation)   (None, 2)                 0         \n",
      "                                                                 \n",
      "=================================================================\n",
      "Total params: 1,315,434\n",
      "Trainable params: 1,314,982\n",
      "Non-trainable params: 452\n",
      "_________________________________________________________________\n",
      "None\n",
      "Epoch 1/25\n",
      "44/44 [==============================] - ETA: 0s - loss: 2.6225 - accuracy: 0.7456\n",
      "Epoch 1: val_loss improved from inf to 1.61102, saving model to ./savedModel\\parkinsons_detection_cnnbatch.hdf5\n",
      "44/44 [==============================] - 127s 3s/step - loss: 2.6225 - accuracy: 0.7456 - val_loss: 1.6110 - val_accuracy: 0.8535\n",
      "Epoch 2/25\n",
      "44/44 [==============================] - ETA: 0s - loss: 1.1498 - accuracy: 0.8714\n",
      "Epoch 2: val_loss improved from 1.61102 to 0.67753, saving model to ./savedModel\\parkinsons_detection_cnnbatch.hdf5\n",
      "44/44 [==============================] - 119s 3s/step - loss: 1.1498 - accuracy: 0.8714 - val_loss: 0.6775 - val_accuracy: 1.0000\n",
      "Epoch 3/25\n",
      "44/44 [==============================] - ETA: 0s - loss: 0.7327 - accuracy: 0.9247\n",
      "Epoch 3: val_loss improved from 0.67753 to 0.59885, saving model to ./savedModel\\parkinsons_detection_cnnbatch.hdf5\n",
      "44/44 [==============================] - 137s 3s/step - loss: 0.7327 - accuracy: 0.9247 - val_loss: 0.5989 - val_accuracy: 1.0000\n",
      "Epoch 4/25\n",
      "44/44 [==============================] - ETA: 0s - loss: 0.5441 - accuracy: 0.9559\n",
      "Epoch 4: val_loss did not improve from 0.59885\n",
      "44/44 [==============================] - 132s 3s/step - loss: 0.5441 - accuracy: 0.9559 - val_loss: 0.6210 - val_accuracy: 1.0000\n",
      "Epoch 5/25\n",
      "44/44 [==============================] - ETA: 0s - loss: 0.4614 - accuracy: 0.9481\n",
      "Epoch 5: val_loss did not improve from 0.59885\n",
      "44/44 [==============================] - 133s 3s/step - loss: 0.4614 - accuracy: 0.9481 - val_loss: 0.6385 - val_accuracy: 1.0000\n",
      "Epoch 6/25\n",
      "44/44 [==============================] - ETA: 0s - loss: 0.4041 - accuracy: 0.9609\n",
      "Epoch 6: val_loss did not improve from 0.59885\n",
      "44/44 [==============================] - 131s 3s/step - loss: 0.4041 - accuracy: 0.9609 - val_loss: 0.6692 - val_accuracy: 1.0000\n",
      "Epoch 7/25\n",
      "44/44 [==============================] - ETA: 0s - loss: 0.3626 - accuracy: 0.9758\n",
      "Epoch 7: val_loss did not improve from 0.59885\n",
      "44/44 [==============================] - 134s 3s/step - loss: 0.3626 - accuracy: 0.9758 - val_loss: 0.6881 - val_accuracy: 1.0000\n",
      "Epoch 8/25\n",
      "44/44 [==============================] - ETA: 0s - loss: 0.3331 - accuracy: 0.9829\n",
      "Epoch 8: val_loss did not improve from 0.59885\n",
      "44/44 [==============================] - 144s 3s/step - loss: 0.3331 - accuracy: 0.9829 - val_loss: 0.7032 - val_accuracy: 1.0000\n",
      "Epoch 9/25\n",
      "44/44 [==============================] - ETA: 0s - loss: 0.3117 - accuracy: 0.9879\n",
      "Epoch 9: val_loss did not improve from 0.59885\n",
      "44/44 [==============================] - 132s 3s/step - loss: 0.3117 - accuracy: 0.9879 - val_loss: 0.7121 - val_accuracy: 1.0000\n",
      "Epoch 10/25\n",
      "44/44 [==============================] - ETA: 0s - loss: 0.2892 - accuracy: 0.9915\n",
      "Epoch 10: val_loss did not improve from 0.59885\n",
      "44/44 [==============================] - 135s 3s/step - loss: 0.2892 - accuracy: 0.9915 - val_loss: 0.7142 - val_accuracy: 1.0000\n",
      "Epoch 11/25\n",
      "44/44 [==============================] - ETA: 0s - loss: 0.2720 - accuracy: 0.9986\n",
      "Epoch 11: val_loss did not improve from 0.59885\n",
      "44/44 [==============================] - 134s 3s/step - loss: 0.2720 - accuracy: 0.9986 - val_loss: 0.7116 - val_accuracy: 0.9809\n",
      "Epoch 12/25\n",
      "44/44 [==============================] - ETA: 0s - loss: 0.2636 - accuracy: 0.9964\n",
      "Epoch 12: val_loss did not improve from 0.59885\n",
      "44/44 [==============================] - 135s 3s/step - loss: 0.2636 - accuracy: 0.9964 - val_loss: 0.7032 - val_accuracy: 0.9809\n",
      "Epoch 13/25\n",
      "44/44 [==============================] - ETA: 0s - loss: 0.2475 - accuracy: 0.9972\n",
      "Epoch 13: val_loss did not improve from 0.59885\n",
      "44/44 [==============================] - 131s 3s/step - loss: 0.2475 - accuracy: 0.9972 - val_loss: 0.6963 - val_accuracy: 0.9809\n",
      "Epoch 14/25\n",
      "44/44 [==============================] - ETA: 0s - loss: 0.2467 - accuracy: 0.9972\n",
      "Epoch 14: val_loss did not improve from 0.59885\n",
      "44/44 [==============================] - 142s 3s/step - loss: 0.2467 - accuracy: 0.9972 - val_loss: 0.6815 - val_accuracy: 0.9745\n",
      "Epoch 15/25\n",
      "44/44 [==============================] - ETA: 0s - loss: 0.2424 - accuracy: 0.9964\n",
      "Epoch 15: val_loss did not improve from 0.59885\n",
      "44/44 [==============================] - 128s 3s/step - loss: 0.2424 - accuracy: 0.9964 - val_loss: 0.6992 - val_accuracy: 0.8662\n",
      "Epoch 16/25\n",
      "44/44 [==============================] - ETA: 0s - loss: 0.2198 - accuracy: 0.9986\n",
      "Epoch 16: val_loss did not improve from 0.59885\n",
      "44/44 [==============================] - 123s 3s/step - loss: 0.2198 - accuracy: 0.9986 - val_loss: 0.6816 - val_accuracy: 0.9554\n"
     ]
    },
    {
     "name": "stdout",
     "output_type": "stream",
     "text": [
      "Epoch 17/25\n",
      "44/44 [==============================] - ETA: 0s - loss: 0.2124 - accuracy: 0.9993\n",
      "Epoch 17: val_loss did not improve from 0.59885\n",
      "44/44 [==============================] - 122s 3s/step - loss: 0.2124 - accuracy: 0.9993 - val_loss: 0.6627 - val_accuracy: 0.9745\n",
      "Epoch 18/25\n",
      "44/44 [==============================] - ETA: 0s - loss: 0.2060 - accuracy: 0.9979\n",
      "Epoch 18: val_loss did not improve from 0.59885\n",
      "44/44 [==============================] - 116s 3s/step - loss: 0.2060 - accuracy: 0.9979 - val_loss: 0.6699 - val_accuracy: 0.9363\n",
      "Epoch 19/25\n",
      "44/44 [==============================] - ETA: 0s - loss: 0.1948 - accuracy: 0.9986\n",
      "Epoch 19: val_loss did not improve from 0.59885\n",
      "44/44 [==============================] - 109s 2s/step - loss: 0.1948 - accuracy: 0.9986 - val_loss: 0.6541 - val_accuracy: 0.9554\n",
      "Epoch 20/25\n",
      "44/44 [==============================] - ETA: 0s - loss: 0.1904 - accuracy: 0.9979\n",
      "Epoch 20: val_loss did not improve from 0.59885\n",
      "44/44 [==============================] - 111s 3s/step - loss: 0.1904 - accuracy: 0.9979 - val_loss: 0.6406 - val_accuracy: 0.9809\n",
      "Epoch 21/25\n",
      "44/44 [==============================] - ETA: 0s - loss: 0.1859 - accuracy: 0.9993\n",
      "Epoch 21: val_loss did not improve from 0.59885\n",
      "44/44 [==============================] - 128s 3s/step - loss: 0.1859 - accuracy: 0.9993 - val_loss: 0.6621 - val_accuracy: 0.8790\n",
      "Epoch 22/25\n",
      "44/44 [==============================] - ETA: 0s - loss: 0.1768 - accuracy: 1.0000\n",
      "Epoch 22: val_loss did not improve from 0.59885\n",
      "44/44 [==============================] - 136s 3s/step - loss: 0.1768 - accuracy: 1.0000 - val_loss: 0.6512 - val_accuracy: 0.8535\n",
      "Epoch 23/25\n",
      "44/44 [==============================] - ETA: 0s - loss: 0.1859 - accuracy: 0.9957\n",
      "Epoch 23: val_loss did not improve from 0.59885\n",
      "44/44 [==============================] - 119s 3s/step - loss: 0.1859 - accuracy: 0.9957 - val_loss: 0.6754 - val_accuracy: 0.7452\n",
      "Epoch 24/25\n",
      "44/44 [==============================] - ETA: 0s - loss: 0.1696 - accuracy: 0.9993\n",
      "Epoch 24: val_loss did not improve from 0.59885\n",
      "44/44 [==============================] - 126s 3s/step - loss: 0.1696 - accuracy: 0.9993 - val_loss: 0.6679 - val_accuracy: 0.6752\n",
      "Epoch 25/25\n",
      "44/44 [==============================] - ETA: 0s - loss: 0.1680 - accuracy: 0.9986\n",
      "Epoch 25: val_loss did not improve from 0.59885\n",
      "44/44 [==============================] - 129s 3s/step - loss: 0.1680 - accuracy: 0.9986 - val_loss: 0.6501 - val_accuracy: 0.7389\n"
     ]
    }
   ],
   "source": [
    "# Training CNN WithBatch Model\n",
    "train_data,train_labels = readTrainingData(trainImages)\n",
    "x_train,y_train = arrayConversion(train_data,train_labels)\n",
    "y_train = categoricalConversion(y_train)\n",
    "model = CNNModelwithBatchNormalization()\n",
    "summary = True\n",
    "if summary:\n",
    "    print(model.summary())\n",
    "filepath=\"./savedModel/parkinsons_detection_cnnbatch.hdf5\"\n",
    "checkpoint = ModelCheckpoint(filepath, monitor='val_loss', verbose=2, save_best_only=True, mode='min',patience=3)\n",
    "callbacks_list = [checkpoint]\n",
    "hist = model.fit(x_train,y_train,\n",
    "                    shuffle = True,\n",
    "                    batch_size=32,\n",
    "                    epochs = 25,\n",
    "                    validation_split = 0.10,callbacks=callbacks_list)"
   ]
  },
  {
   "cell_type": "code",
   "execution_count": 13,
   "id": "2f6e67fc",
   "metadata": {},
   "outputs": [
    {
     "data": {
      "text/plain": [
       "<matplotlib.legend.Legend at 0x2bc2eaeef10>"
      ]
     },
     "execution_count": 13,
     "metadata": {},
     "output_type": "execute_result"
    },
    {
     "data": {
      "image/png": "[encoded data removed]",
      "text/plain": [
       "<Figure size 1080x360 with 2 Axes>"
      ]
     },
     "metadata": {
      "needs_background": "light"
     },
     "output_type": "display_data"
    }
   ],
   "source": [
    "plt.figure(1, figsize = (15, 5))\n",
    "plt.subplot(1,2,1)\n",
    "plt.xlabel(\"Epochs\")\n",
    "plt.ylabel(\"Loss\")\n",
    "plt.plot( hist.history[\"loss\"], label = \"Training Loss\")\n",
    "plt.plot( hist.history[\"val_loss\"], label = \"Validation Loss\")\n",
    "plt.grid(True)\n",
    "plt.legend()\n",
    "\n",
    "plt.subplot(1,2,2)\n",
    "plt.xlabel(\"Epochs\")\n",
    "plt.ylabel(\"Accuracy\")\n",
    "plt.plot( hist.history[\"accuracy\"], label = \"Training Accuracy\")\n",
    "plt.plot( hist.history[\"val_accuracy\"], label = \"Validation Accuracy\")\n",
    "plt.grid(True)\n",
    "plt.legend()"
   ]
  },
  {
   "cell_type": "code",
   "execution_count": 14,
   "id": "22cab058",
   "metadata": {},
   "outputs": [
    {
     "name": "stdout",
     "output_type": "stream",
     "text": [
      "['Control', 'PD']\n",
      "(522, 512, 512) (522,)\n",
      "(522, 2)\n",
      "17/17 [==============================] - 12s 705ms/step - loss: 0.6357 - accuracy: 0.7586\n",
      "              precision    recall  f1-score   support\n",
      "\n",
      "           0       0.79      0.68      0.73       252\n",
      "           1       0.74      0.83      0.78       270\n",
      "\n",
      "    accuracy                           0.76       522\n",
      "   macro avg       0.76      0.76      0.76       522\n",
      "weighted avg       0.76      0.76      0.76       522\n",
      "\n",
      "[[172  80]\n",
      " [ 46 224]]\n"
     ]
    },
    {
     "data": {
      "text/plain": [
       "<AxesSubplot:>"
      ]
     },
     "execution_count": 14,
     "metadata": {},
     "output_type": "execute_result"
    },
    {
     "data": {
      "image/png": "[encoded data removed]",
      "text/plain": [
       "<Figure size 432x288 with 2 Axes>"
      ]
     },
     "metadata": {
      "needs_background": "light"
     },
     "output_type": "display_data"
    }
   ],
   "source": [
    "test_data,test_labels = readTrainingData(testImages)\n",
    "x_test,y_test = arrayConversion(test_data,test_labels)\n",
    "y_test = categoricalConversion(y_test)\n",
    "model.evaluate(x_test,y_test)\n",
    "predictions = model.predict(x_test, batch_size = 32)\n",
    "pred = np.argmax(predictions, axis=1)\n",
    "print(classification_report(test_labels, pred))\n",
    "print(confusion_matrix(test_labels, pred))\n",
    "sns.heatmap(confusion_matrix(test_labels, pred), annot=True)"
   ]
  },
  {
   "cell_type": "code",
   "execution_count": 16,
   "id": "5cdcce54",
   "metadata": {},
   "outputs": [
    {
     "name": "stdout",
     "output_type": "stream",
     "text": [
      "The predicted result is  No Parkinsons\n"
     ]
    }
   ],
   "source": [
    "img = pydicom.dcmread(r\"C:\\Nikhil drive\\Mtech\\mini project\\Data\\Test\\Control\\PPMI_3201_MR_axial_spgr_br_raw_20110318145751739_32_S101957_I224304.dcm\")\n",
    "img_array = img.pixel_array\n",
    "img_array = cv.resize(img_array,(512,512))\n",
    "model_out = model.predict(img_array.reshape(1,512,512))[0]\n",
    "     \n",
    "if np.argmax(model_out) == 1: str_label ='Parkinsons'\n",
    "else: str_label ='No Parkinsons'\n",
    "print(\"The predicted result is \", str_label)"
   ]
  },
  {
   "cell_type": "code",
   "execution_count": 17,
   "id": "965e4eb7",
   "metadata": {},
   "outputs": [
    {
     "name": "stdout",
     "output_type": "stream",
     "text": [
      "['Control', 'PD']\n",
      "(1564, 512, 512) (1564,)\n",
      "(1564, 2)\n",
      "Model: \"sequential_1\"\n",
      "_________________________________________________________________\n",
      " Layer (type)                Output Shape              Param #   \n",
      "=================================================================\n",
      " conv2d_6 (Conv2D)           (None, 510, 510, 16)      160       \n",
      "                                                                 \n",
      " max_pooling2d_6 (MaxPooling  (None, 255, 255, 16)     0         \n",
      " 2D)                                                             \n",
      "                                                                 \n",
      " conv2d_7 (Conv2D)           (None, 253, 253, 32)      4640      \n",
      "                                                                 \n",
      " max_pooling2d_7 (MaxPooling  (None, 126, 126, 32)     0         \n",
      " 2D)                                                             \n",
      "                                                                 \n",
      " conv2d_8 (Conv2D)           (None, 124, 124, 64)      18496     \n",
      "                                                                 \n",
      " max_pooling2d_8 (MaxPooling  (None, 62, 62, 64)       0         \n",
      " 2D)                                                             \n",
      "                                                                 \n",
      " conv2d_9 (Conv2D)           (None, 60, 60, 64)        36928     \n",
      "                                                                 \n",
      " max_pooling2d_9 (MaxPooling  (None, 30, 30, 64)       0         \n",
      " 2D)                                                             \n",
      "                                                                 \n",
      " conv2d_10 (Conv2D)          (None, 28, 28, 128)       73856     \n",
      "                                                                 \n",
      " max_pooling2d_10 (MaxPoolin  (None, 14, 14, 128)      0         \n",
      " g2D)                                                            \n",
      "                                                                 \n",
      " conv2d_11 (Conv2D)          (None, 12, 12, 128)       147584    \n",
      "                                                                 \n",
      " max_pooling2d_11 (MaxPoolin  (None, 6, 6, 128)        0         \n",
      " g2D)                                                            \n",
      "                                                                 \n",
      " flatten_1 (Flatten)         (None, 4608)              0         \n",
      "                                                                 \n",
      " dense_2 (Dense)             (None, 224)               1032416   \n",
      "                                                                 \n",
      " activation_2 (Activation)   (None, 224)               0         \n",
      "                                                                 \n",
      " dropout_1 (Dropout)         (None, 224)               0         \n",
      "                                                                 \n",
      " dense_3 (Dense)             (None, 2)                 450       \n",
      "                                                                 \n",
      " activation_3 (Activation)   (None, 2)                 0         \n",
      "                                                                 \n",
      "=================================================================\n",
      "Total params: 1,314,530\n",
      "Trainable params: 1,314,530\n",
      "Non-trainable params: 0\n",
      "_________________________________________________________________\n",
      "None\n",
      "Epoch 1/25\n",
      "44/44 [==============================] - ETA: 0s - loss: 8.5288 - accuracy: 0.6006\n",
      "Epoch 1: val_loss improved from inf to 3.47744, saving model to ./savedModel\\parkinsons_detection_cnn.hdf5\n",
      "44/44 [==============================] - 137s 3s/step - loss: 8.5288 - accuracy: 0.6006 - val_loss: 3.4774 - val_accuracy: 0.9363\n",
      "Epoch 2/25\n",
      "44/44 [==============================] - ETA: 0s - loss: 3.3515 - accuracy: 0.7939\n",
      "Epoch 2: val_loss improved from 3.47744 to 3.30567, saving model to ./savedModel\\parkinsons_detection_cnn.hdf5\n",
      "44/44 [==============================] - 124s 3s/step - loss: 3.3515 - accuracy: 0.7939 - val_loss: 3.3057 - val_accuracy: 0.6369\n",
      "Epoch 3/25\n",
      "44/44 [==============================] - ETA: 0s - loss: 2.8583 - accuracy: 0.8962\n",
      "Epoch 3: val_loss did not improve from 3.30567\n",
      "44/44 [==============================] - 125s 3s/step - loss: 2.8583 - accuracy: 0.8962 - val_loss: 4.3932 - val_accuracy: 0.2611\n",
      "Epoch 4/25\n",
      "44/44 [==============================] - ETA: 0s - loss: 2.5293 - accuracy: 0.9474\n",
      "Epoch 4: val_loss improved from 3.30567 to 2.46985, saving model to ./savedModel\\parkinsons_detection_cnn.hdf5\n",
      "44/44 [==============================] - 135s 3s/step - loss: 2.5293 - accuracy: 0.9474 - val_loss: 2.4698 - val_accuracy: 0.9236\n",
      "Epoch 5/25\n",
      "44/44 [==============================] - ETA: 0s - loss: 2.3281 - accuracy: 0.9602\n",
      "Epoch 5: val_loss did not improve from 2.46985\n",
      "44/44 [==============================] - 144s 3s/step - loss: 2.3281 - accuracy: 0.9602 - val_loss: 2.5519 - val_accuracy: 0.8217\n",
      "Epoch 6/25\n",
      "44/44 [==============================] - ETA: 0s - loss: 2.1557 - accuracy: 0.9716\n",
      "Epoch 6: val_loss improved from 2.46985 to 2.44033, saving model to ./savedModel\\parkinsons_detection_cnn.hdf5\n",
      "44/44 [==============================] - 131s 3s/step - loss: 2.1557 - accuracy: 0.9716 - val_loss: 2.4403 - val_accuracy: 0.8089\n",
      "Epoch 7/25\n",
      "44/44 [==============================] - ETA: 0s - loss: 1.9869 - accuracy: 0.9808\n",
      "Epoch 7: val_loss did not improve from 2.44033\n",
      "44/44 [==============================] - 134s 3s/step - loss: 1.9869 - accuracy: 0.9808 - val_loss: 2.5005 - val_accuracy: 0.7834\n",
      "Epoch 8/25\n",
      "44/44 [==============================] - ETA: 0s - loss: 1.8884 - accuracy: 0.9780\n",
      "Epoch 8: val_loss improved from 2.44033 to 2.26943, saving model to ./savedModel\\parkinsons_detection_cnn.hdf5\n",
      "44/44 [==============================] - 134s 3s/step - loss: 1.8884 - accuracy: 0.9780 - val_loss: 2.2694 - val_accuracy: 0.8344\n",
      "Epoch 9/25\n",
      "44/44 [==============================] - ETA: 0s - loss: 1.7869 - accuracy: 0.9815\n",
      "Epoch 9: val_loss improved from 2.26943 to 2.06161, saving model to ./savedModel\\parkinsons_detection_cnn.hdf5\n",
      "44/44 [==============================] - 140s 3s/step - loss: 1.7869 - accuracy: 0.9815 - val_loss: 2.0616 - val_accuracy: 0.8471\n",
      "Epoch 10/25\n",
      "44/44 [==============================] - ETA: 0s - loss: 1.6657 - accuracy: 0.9893\n",
      "Epoch 10: val_loss improved from 2.06161 to 1.86026, saving model to ./savedModel\\parkinsons_detection_cnn.hdf5\n",
      "44/44 [==============================] - 128s 3s/step - loss: 1.6657 - accuracy: 0.9893 - val_loss: 1.8603 - val_accuracy: 0.9108\n",
      "Epoch 11/25\n",
      "44/44 [==============================] - ETA: 0s - loss: 1.6000 - accuracy: 0.9865\n",
      "Epoch 11: val_loss did not improve from 1.86026\n",
      "44/44 [==============================] - 129s 3s/step - loss: 1.6000 - accuracy: 0.9865 - val_loss: 1.8808 - val_accuracy: 0.8471\n",
      "Epoch 12/25\n",
      "44/44 [==============================] - ETA: 0s - loss: 1.4939 - accuracy: 0.9900\n",
      "Epoch 12: val_loss did not improve from 1.86026\n",
      "44/44 [==============================] - 142s 3s/step - loss: 1.4939 - accuracy: 0.9900 - val_loss: 2.2698 - val_accuracy: 0.8153\n",
      "Epoch 13/25\n",
      "44/44 [==============================] - ETA: 0s - loss: 1.4384 - accuracy: 0.9879\n",
      "Epoch 13: val_loss improved from 1.86026 to 1.70391, saving model to ./savedModel\\parkinsons_detection_cnn.hdf5\n",
      "44/44 [==============================] - 138s 3s/step - loss: 1.4384 - accuracy: 0.9879 - val_loss: 1.7039 - val_accuracy: 0.8854\n",
      "Epoch 14/25\n",
      "44/44 [==============================] - ETA: 0s - loss: 1.3694 - accuracy: 0.9900\n",
      "Epoch 14: val_loss did not improve from 1.70391\n",
      "44/44 [==============================] - 133s 3s/step - loss: 1.3694 - accuracy: 0.9900 - val_loss: 2.3642 - val_accuracy: 0.7325\n",
      "Epoch 15/25\n",
      "44/44 [==============================] - ETA: 0s - loss: 1.2947 - accuracy: 0.9929\n",
      "Epoch 15: val_loss did not improve from 1.70391\n",
      "44/44 [==============================] - 136s 3s/step - loss: 1.2947 - accuracy: 0.9929 - val_loss: 1.9567 - val_accuracy: 0.8854\n",
      "Epoch 16/25\n",
      "44/44 [==============================] - ETA: 0s - loss: 1.3843 - accuracy: 0.9552\n",
      "Epoch 16: val_loss improved from 1.70391 to 1.65384, saving model to ./savedModel\\parkinsons_detection_cnn.hdf5\n",
      "44/44 [==============================] - 122s 3s/step - loss: 1.3843 - accuracy: 0.9552 - val_loss: 1.6538 - val_accuracy: 0.8408\n",
      "Epoch 17/25\n"
     ]
    },
    {
     "name": "stdout",
     "output_type": "stream",
     "text": [
      "44/44 [==============================] - ETA: 0s - loss: 1.2203 - accuracy: 0.9922\n",
      "Epoch 17: val_loss did not improve from 1.65384\n",
      "44/44 [==============================] - 122s 3s/step - loss: 1.2203 - accuracy: 0.9922 - val_loss: 2.3163 - val_accuracy: 0.7070\n",
      "Epoch 18/25\n",
      "44/44 [==============================] - ETA: 0s - loss: 1.1438 - accuracy: 0.9979\n",
      "Epoch 18: val_loss did not improve from 1.65384\n",
      "44/44 [==============================] - 106s 2s/step - loss: 1.1438 - accuracy: 0.9979 - val_loss: 2.1668 - val_accuracy: 0.7707\n",
      "Epoch 19/25\n",
      "44/44 [==============================] - ETA: 0s - loss: 1.0859 - accuracy: 0.9929\n",
      "Epoch 19: val_loss did not improve from 1.65384\n",
      "44/44 [==============================] - 102s 2s/step - loss: 1.0859 - accuracy: 0.9929 - val_loss: 2.2969 - val_accuracy: 0.7834\n",
      "Epoch 20/25\n",
      "44/44 [==============================] - ETA: 0s - loss: 1.0314 - accuracy: 0.9964\n",
      "Epoch 20: val_loss improved from 1.65384 to 1.55859, saving model to ./savedModel\\parkinsons_detection_cnn.hdf5\n",
      "44/44 [==============================] - 103s 2s/step - loss: 1.0314 - accuracy: 0.9964 - val_loss: 1.5586 - val_accuracy: 0.9172\n",
      "Epoch 21/25\n",
      "44/44 [==============================] - ETA: 0s - loss: 1.0238 - accuracy: 0.9844\n",
      "Epoch 21: val_loss did not improve from 1.55859\n",
      "44/44 [==============================] - 102s 2s/step - loss: 1.0238 - accuracy: 0.9844 - val_loss: 1.8784 - val_accuracy: 0.7898\n",
      "Epoch 22/25\n",
      "44/44 [==============================] - ETA: 0s - loss: 0.9505 - accuracy: 0.9950\n",
      "Epoch 22: val_loss did not improve from 1.55859\n",
      "44/44 [==============================] - 103s 2s/step - loss: 0.9505 - accuracy: 0.9950 - val_loss: 1.9637 - val_accuracy: 0.7834\n",
      "Epoch 23/25\n",
      "44/44 [==============================] - ETA: 0s - loss: 0.8959 - accuracy: 0.9993\n",
      "Epoch 23: val_loss did not improve from 1.55859\n",
      "44/44 [==============================] - 103s 2s/step - loss: 0.8959 - accuracy: 0.9993 - val_loss: 2.3062 - val_accuracy: 0.7261\n",
      "Epoch 24/25\n",
      "44/44 [==============================] - ETA: 0s - loss: 0.8585 - accuracy: 0.9986\n",
      "Epoch 24: val_loss did not improve from 1.55859\n",
      "44/44 [==============================] - 102s 2s/step - loss: 0.8585 - accuracy: 0.9986 - val_loss: 1.9449 - val_accuracy: 0.8153\n",
      "Epoch 25/25\n",
      "44/44 [==============================] - ETA: 0s - loss: 0.8159 - accuracy: 0.9993\n",
      "Epoch 25: val_loss improved from 1.55859 to 1.26730, saving model to ./savedModel\\parkinsons_detection_cnn.hdf5\n",
      "44/44 [==============================] - 101s 2s/step - loss: 0.8159 - accuracy: 0.9993 - val_loss: 1.2673 - val_accuracy: 0.8535\n"
     ]
    }
   ],
   "source": [
    "# Training CNN Without Batch Model\n",
    "train_data,train_labels = readTrainingData(trainImages)\n",
    "x_train,y_train = arrayConversion(train_data,train_labels)\n",
    "y_train = categoricalConversion(y_train)\n",
    "model = CNNModelwithoutBatchNormalization()\n",
    "summary = True\n",
    "if summary:\n",
    "    print(model.summary())\n",
    "filepath=\"./savedModel/parkinsons_detection_cnn.hdf5\"\n",
    "checkpoint = ModelCheckpoint(filepath, monitor='val_loss', verbose=2, save_best_only=True, mode='min',patience=3)\n",
    "callbacks_list = [checkpoint]\n",
    "hist = model.fit(x_train,y_train,\n",
    "                    shuffle = True,\n",
    "                    batch_size=32,\n",
    "                    epochs = 25,\n",
    "                    validation_split = 0.10,callbacks=callbacks_list)"
   ]
  },
  {
   "cell_type": "code",
   "execution_count": 18,
   "id": "2ac021a3",
   "metadata": {},
   "outputs": [
    {
     "data": {
      "text/plain": [
       "<matplotlib.legend.Legend at 0x2bc52d41f10>"
      ]
     },
     "execution_count": 18,
     "metadata": {},
     "output_type": "execute_result"
    },
    {
     "data": {
      "image/png": "[encoded data removed]",
      "text/plain": [
       "<Figure size 1080x360 with 2 Axes>"
      ]
     },
     "metadata": {
      "needs_background": "light"
     },
     "output_type": "display_data"
    }
   ],
   "source": [
    "plt.figure(1, figsize = (15, 5))\n",
    "plt.subplot(1,2,1)\n",
    "plt.xlabel(\"Epochs\")\n",
    "plt.ylabel(\"Loss\")\n",
    "plt.plot( hist.history[\"loss\"], label = \"Training Loss\")\n",
    "plt.plot( hist.history[\"val_loss\"], label = \"Validation Loss\")\n",
    "plt.grid(True)\n",
    "plt.legend()\n",
    "\n",
    "plt.subplot(1,2,2)\n",
    "plt.xlabel(\"Epochs\")\n",
    "plt.ylabel(\"Accuracy\")\n",
    "plt.plot( hist.history[\"accuracy\"], label = \"Training Accuracy\")\n",
    "plt.plot( hist.history[\"val_accuracy\"], label = \"Validation Accuracy\")\n",
    "plt.grid(True)\n",
    "plt.legend()"
   ]
  },
  {
   "cell_type": "code",
   "execution_count": 19,
   "id": "3a11c8f3",
   "metadata": {},
   "outputs": [
    {
     "name": "stdout",
     "output_type": "stream",
     "text": [
      "['Control', 'PD']\n",
      "(522, 512, 512) (522,)\n",
      "(522, 2)\n",
      "17/17 [==============================] - 9s 492ms/step - loss: 3.0206 - accuracy: 0.7165\n",
      "              precision    recall  f1-score   support\n",
      "\n",
      "           0       0.71      0.70      0.70       252\n",
      "           1       0.72      0.73      0.73       270\n",
      "\n",
      "    accuracy                           0.72       522\n",
      "   macro avg       0.72      0.72      0.72       522\n",
      "weighted avg       0.72      0.72      0.72       522\n",
      "\n",
      "[[176  76]\n",
      " [ 72 198]]\n"
     ]
    },
    {
     "data": {
      "text/plain": [
       "<AxesSubplot:>"
      ]
     },
     "execution_count": 19,
     "metadata": {},
     "output_type": "execute_result"
    },
    {
     "data": {
      "image/png": "[encoded data removed]",
      "text/plain": [
       "<Figure size 432x288 with 2 Axes>"
      ]
     },
     "metadata": {
      "needs_background": "light"
     },
     "output_type": "display_data"
    }
   ],
   "source": [
    "test_data,test_labels = readTrainingData(testImages)\n",
    "x_test,y_test = arrayConversion(test_data,test_labels)\n",
    "y_test = categoricalConversion(y_test)\n",
    "model.evaluate(x_test,y_test)\n",
    "predictions = model.predict(x_test, batch_size = 32)\n",
    "pred = np.argmax(predictions, axis=1)\n",
    "print(classification_report(test_labels, pred))\n",
    "print(confusion_matrix(test_labels, pred))\n",
    "sns.heatmap(confusion_matrix(test_labels, pred), annot=True)"
   ]
  },
  {
   "cell_type": "code",
   "execution_count": 20,
   "id": "d092c18c",
   "metadata": {},
   "outputs": [
    {
     "name": "stdout",
     "output_type": "stream",
     "text": [
      "The predicted result is  No Parkinsons\n"
     ]
    }
   ],
   "source": [
    "img = pydicom.dcmread(r\"C:\\Nikhil drive\\Mtech\\mini project\\Data\\Test\\Control\\PPMI_3201_MR_axial_spgr_br_raw_20110318145751801_30_S101957_I224304.dcm\")\n",
    "img_array = img.pixel_array\n",
    "img_array = cv.resize(img_array,(512,512))\n",
    "model_out = model.predict(img_array.reshape(1,512,512))[0]\n",
    "     \n",
    "if np.argmax(model_out) == 1: str_label ='Parkinsons'\n",
    "else: str_label ='No Parkinsons'\n",
    "print(\"The predicted result is \", str_label)"
   ]
  },
  {
   "cell_type": "code",
   "execution_count": 21,
   "id": "5fdd5496",
   "metadata": {},
   "outputs": [
    {
     "name": "stdout",
     "output_type": "stream",
     "text": [
      "['Control', 'PD']\n",
      "(1564, 512, 512) (1564,)\n",
      "(1564, 2)\n",
      "Model: \"sequential_2\"\n",
      "_________________________________________________________________\n",
      " Layer (type)                Output Shape              Param #   \n",
      "=================================================================\n",
      " conv2d_12 (Conv2D)          (None, 512, 512, 32)      832       \n",
      "                                                                 \n",
      " max_pooling2d_12 (MaxPoolin  (None, 256, 256, 32)     0         \n",
      " g2D)                                                            \n",
      "                                                                 \n",
      " conv2d_13 (Conv2D)          (None, 252, 252, 48)      38448     \n",
      "                                                                 \n",
      " max_pooling2d_13 (MaxPoolin  (None, 126, 126, 48)     0         \n",
      " g2D)                                                            \n",
      "                                                                 \n",
      " flatten_2 (Flatten)         (None, 762048)            0         \n",
      "                                                                 \n",
      " dense_4 (Dense)             (None, 256)               195084544 \n",
      "                                                                 \n",
      " dense_5 (Dense)             (None, 84)                21588     \n",
      "                                                                 \n",
      " dense_6 (Dense)             (None, 2)                 170       \n",
      "                                                                 \n",
      "=================================================================\n",
      "Total params: 195,145,582\n",
      "Trainable params: 195,145,582\n",
      "Non-trainable params: 0\n",
      "_________________________________________________________________\n",
      "None\n",
      "Epoch 1/2\n",
      "44/44 [==============================] - ETA: 0s - loss: 440.4081 - accuracy: 0.7740 \n",
      "Epoch 1: val_loss improved from inf to 7.32597, saving model to ./savedModel\\parkinsons_detection_LeNet.hdf5\n",
      "44/44 [==============================] - 691s 15s/step - loss: 440.4081 - accuracy: 0.7740 - val_loss: 7.3260 - val_accuracy: 0.0000e+00\n",
      "Epoch 2/2\n",
      "44/44 [==============================] - ETA: 0s - loss: 0.2120 - accuracy: 0.9197 \n",
      "Epoch 2: val_loss did not improve from 7.32597\n",
      "44/44 [==============================] - 535s 12s/step - loss: 0.2120 - accuracy: 0.9197 - val_loss: 8.9146 - val_accuracy: 0.0764\n"
     ]
    }
   ],
   "source": [
    "\n",
    "# Training CNNLeNet5()\n",
    "train_data,train_labels = readTrainingData(trainImages)\n",
    "x_train,y_train = arrayConversion(train_data,train_labels)\n",
    "y_train = categoricalConversion(y_train)\n",
    "model = CNNLeNet5()\n",
    "summary = True\n",
    "if summary:\n",
    "    print(model.summary())\n",
    "filepath=\"./savedModel/parkinsons_detection_LeNet.hdf5\"\n",
    "checkpoint = ModelCheckpoint(filepath, monitor='val_loss', verbose=2, save_best_only=True, mode='min',patience=3)\n",
    "callbacks_list = [checkpoint]\n",
    "hist = model.fit(x_train,y_train,\n",
    "                    shuffle = True,\n",
    "                    batch_size=32,\n",
    "                    epochs = 2,\n",
    "                    validation_split = 0.10,callbacks=callbacks_list)"
   ]
  },
  {
   "cell_type": "code",
   "execution_count": 22,
   "id": "3143823d",
   "metadata": {},
   "outputs": [
    {
     "data": {
      "text/plain": [
       "<matplotlib.legend.Legend at 0x2bc7d04d640>"
      ]
     },
     "execution_count": 22,
     "metadata": {},
     "output_type": "execute_result"
    },
    {
     "data": {
      "image/png": "[encoded data removed]",
      "text/plain": [
       "<Figure size 1080x360 with 2 Axes>"
      ]
     },
     "metadata": {
      "needs_background": "light"
     },
     "output_type": "display_data"
    }
   ],
   "source": [
    "plt.figure(1, figsize = (15, 5))\n",
    "plt.subplot(1,2,1)\n",
    "plt.xlabel(\"Epochs\")\n",
    "plt.ylabel(\"Loss\")\n",
    "plt.plot( hist.history[\"loss\"], label = \"Training Loss\")\n",
    "plt.plot( hist.history[\"val_loss\"], label = \"Validation Loss\")\n",
    "plt.grid(True)\n",
    "plt.legend()\n",
    "\n",
    "plt.subplot(1,2,2)\n",
    "plt.xlabel(\"Epochs\")\n",
    "plt.ylabel(\"Accuracy\")\n",
    "plt.plot( hist.history[\"accuracy\"], label = \"Training Accuracy\")\n",
    "plt.plot( hist.history[\"val_accuracy\"], label = \"Validation Accuracy\")\n",
    "plt.grid(True)\n",
    "plt.legend()"
   ]
  },
  {
   "cell_type": "code",
   "execution_count": 23,
   "id": "c2a41588",
   "metadata": {},
   "outputs": [
    {
     "name": "stdout",
     "output_type": "stream",
     "text": [
      "['Control', 'PD']\n",
      "(522, 512, 512) (522,)\n",
      "(522, 2)\n",
      "17/17 [==============================] - 20s 1s/step - loss: 2.4133 - accuracy: 0.6533\n",
      "              precision    recall  f1-score   support\n",
      "\n",
      "           0       0.62      0.74      0.67       252\n",
      "           1       0.70      0.57      0.63       270\n",
      "\n",
      "    accuracy                           0.65       522\n",
      "   macro avg       0.66      0.66      0.65       522\n",
      "weighted avg       0.66      0.65      0.65       522\n",
      "\n",
      "[[186  66]\n",
      " [115 155]]\n"
     ]
    },
    {
     "data": {
      "text/plain": [
       "<AxesSubplot:>"
      ]
     },
     "execution_count": 23,
     "metadata": {},
     "output_type": "execute_result"
    },
    {
     "data": {
      "image/png": "[encoded data removed]",
      "text/plain": [
       "<Figure size 432x288 with 2 Axes>"
      ]
     },
     "metadata": {
      "needs_background": "light"
     },
     "output_type": "display_data"
    }
   ],
   "source": [
    "test_data,test_labels = readTrainingData(testImages)\n",
    "x_test,y_test = arrayConversion(test_data,test_labels)\n",
    "y_test = categoricalConversion(y_test)\n",
    "model.evaluate(x_test,y_test)\n",
    "predictions = model.predict(x_test, batch_size = 32)\n",
    "pred = np.argmax(predictions, axis=1)\n",
    "print(classification_report(test_labels, pred))\n",
    "print(confusion_matrix(test_labels, pred))\n",
    "sns.heatmap(confusion_matrix(test_labels, pred), annot=True)"
   ]
  },
  {
   "cell_type": "code",
   "execution_count": 25,
   "id": "8dd35c3e",
   "metadata": {},
   "outputs": [
    {
     "name": "stdout",
     "output_type": "stream",
     "text": [
      "The predicted result is  Parkinsons\n"
     ]
    }
   ],
   "source": [
    "img = pydicom.dcmread(r\"C:\\Nikhil drive\\Mtech\\mini project\\Data\\Test\\Control\\PPMI_3201_MR_axial_spgr_br_raw_20110318145751801_30_S101957_I224304.dcm\")\n",
    "img_array = img.pixel_array\n",
    "img_array = cv.resize(img_array,(512,512))\n",
    "model_out = model.predict(img_array.reshape(1,512,512))[0]\n",
    "         \n",
    "if np.argmax(model_out) == 1: str_label ='Parkinsons'\n",
    "else: str_label ='No Parkinsons'\n",
    "print(\"The predicted result is \", str_label)"
   ]
  },
  {
   "cell_type": "code",
   "execution_count": null,
   "id": "cc673faf",
   "metadata": {},
   "outputs": [],
   "source": []
  }
 ],
 "metadata": {
  "kernelspec": {
   "display_name": "Python 3 (ipykernel)",
   "language": "python",
   "name": "python3"
  },
  "language_info": {
   "codemirror_mode": {
    "name": "ipython",
    "version": 3
   },
   "file_extension": ".py",
   "mimetype": "text/x-python",
   "name": "python",
   "nbconvert_exporter": "python",
   "pygments_lexer": "ipython3",
   "version": "3.9.7"
  }
 },
 "nbformat": 4,
 "nbformat_minor": 5
}
